{
 "cells": [
  {
   "cell_type": "markdown",
   "metadata": {
    "deletable": false,
    "editable": false,
    "nbgrader": {
     "cell_type": "markdown",
     "checksum": "08fecd06cada05dc2b74c825e68b8924",
     "grade": false,
     "grade_id": "cell-e37bf3469fc1e9d7",
     "locked": true,
     "schema_version": 3,
     "solution": false,
     "task": false
    }
   },
   "source": [
    "Before you turn this problem in, make sure everything runs as expected. First, **restart the kernel** (in the menubar, select Kernel$\\rightarrow$Restart) and then **run all cells** (in the menubar, select Cell$\\rightarrow$Run All). Do NOT add any cells to the notebook!\n",
    "\n",
    "Make sure you fill in any place that says `YOUR CODE HERE` or _YOUR ANSWER HERE_ , as well as your name and group below:"
   ]
  },
  {
   "cell_type": "code",
   "execution_count": null,
   "metadata": {},
   "outputs": [],
   "source": [
    "NAME = \"Christoph Helmberger\"\n",
    "STUDENTID = \"11915039\"\n",
    "GROUPID = \"3\";"
   ]
  },
  {
   "cell_type": "markdown",
   "metadata": {
    "deletable": false,
    "editable": false,
    "nbgrader": {
     "cell_type": "markdown",
     "checksum": "439aaf6979c9aad8224c6e560e09d530",
     "grade": false,
     "grade_id": "cell-547da1b1777ed8e0",
     "locked": true,
     "schema_version": 3,
     "solution": false,
     "task": false
    }
   },
   "source": [
    "# Assignment 5 (Group)\n",
    "In Assignment 2, as a group, you trained yourselves in accessing and characterising two data sources. You also sketched out a data-science project based on these data sources. In this assignment, based on this project idea, you should select, implement, and describe 3 appropriate visualisations.\n",
    "\n",
    "The following materials provide the necessary background:\n",
    "* the slide deck on visualisations (Unit 5) and the corresponding notebook;\n",
    "* Chapter 3 of \"Data Science from Scratch\"\n",
    "* the supplemental read on \"Task-Based Effectiveness of Basic Visualizations\" available from MyLearn: _B. Saket, A. Endert and Ç. Demiralp (2019), \"Task-Based Effectiveness of Basic Visualizations,\" in IEEE Transactions on Visualization and Computer Graphics, vol. 25, no. 7, pp. 2505-2512, DOI: 10.1109/TVCG.2018.2829750_\n",
    "\n",
    "Requirements:\n",
    "* The visualisation should fit the chosen tasks on the data sets.\n",
    "* You should employ at least two different types of visualisations. Even if two tasks in two steps below were identical (e.g., two aggregation tasks), you would be expected to select a different visualisation for each. \n",
    "* As opposed to Assignment 2, you are expected to use pandas to represent and to prepare the data sets for visualisation.\n",
    "* As for the Assignment 2 data sets, to avoid confusions:\n",
    " * Use the genuine ones, not the manipulated ones (having anomalies introduced). \n",
    " * If you worked with excerpts (samples) from the original and genuine datasets, you may continue using these. You are also free to use the complete datasets, but this is not expected\n",
    " * Please stick to your project description in Assignment 2 when choosing tasks and corresponding visualisations."
   ]
  },
  {
   "cell_type": "markdown",
   "metadata": {
    "deletable": false,
    "editable": false,
    "nbgrader": {
     "cell_type": "markdown",
     "checksum": "e4e1ae2e0b2b37eae2abbc0f9d3f714d",
     "grade": false,
     "grade_id": "cell-41258b830f38673b",
     "locked": true,
     "schema_version": 3,
     "solution": false,
     "task": false
    }
   },
   "source": [
    "-----\n",
    "## Step 1 (6 points)\n",
    "\n",
    "Select, implement and describe one visualisation for data source 1 (in isolation from data source 2)."
   ]
  },
  {
   "cell_type": "code",
   "execution_count": null,
   "metadata": {
    "deletable": false,
    "nbgrader": {
     "cell_type": "code",
     "checksum": "85e303e23b787c6ffa49284b473073db",
     "grade": true,
     "grade_id": "cell-f5c21aa256cedf80",
     "locked": false,
     "points": 4,
     "schema_version": 3,
     "solution": true,
     "task": false
    }
   },
   "outputs": [],
   "source": [
    "%matplotlib inline\n",
    "import matplotlib.pyplot as plt\n",
    "import numpy as np\n",
    "import pandas as pd\n",
    "import os.path\n",
    "\n",
    "plt.rcParams['figure.figsize'] = (15, 9)\n",
    "\n",
    "df = pd.read_csv('./data/data_notebook-1_dataset1.csv')\n",
    "df[['year','week']] = df['year_week'].str.split('-', expand = True) #splitting column year_week into year and week\n",
    "\n",
    "#grouping per year and age groups and calculating the new cases\n",
    "dfAgg = pd.DataFrame(df.groupby(['age_group','year'])['new_cases'].sum().unstack('year').fillna(0))\n",
    "dfAgg = dfAgg.reindex(np.roll(dfAgg.index, shift = 1))\n",
    "\n",
    "#plotting line chart adn setting the title and labels for the axis with the respective font sizes\n",
    "pl = dfAgg[['2020','2021']].plot.bar(color = ['purple', 'green'])\n",
    "plt.title('New cases (in Millions) per year and age group in EU', fontsize = 'xx-large')\n",
    "plt.ylabel('# of new cases (in Millions)', fontsize = 'xx-large')\n",
    "plt.xlabel('Age groups', fontsize = 'xx-large')\n",
    "\n",
    "legend = plt.legend(loc = 'upper right', fontsize = 'x-large')\n",
    "legend.set_title('Year', prop = {'size':15})\n",
    "plt.show()"
   ]
  },
  {
   "cell_type": "markdown",
   "metadata": {
    "deletable": false,
    "editable": false,
    "nbgrader": {
     "cell_type": "markdown",
     "checksum": "1de208d36e229d4cd5d6c8379e0de16d",
     "grade": false,
     "grade_id": "cell-c98a5a86ee4b41f8",
     "locked": true,
     "schema_version": 3,
     "solution": false,
     "task": false
    }
   },
   "source": [
    "Document your decision and describe the resulting visualisation. In your answer, cover the following aspects:\n",
    "\n",
    "* What is the task on the data source supported by the chosen visualisation?\n",
    "* Why is the chosen visualisation effective for the given task?\n",
    "* What does the visualisation show exactly?\n",
    "* What does the visualisation contribute to answering your project's questions?"
   ]
  },
  {
   "cell_type": "markdown",
   "metadata": {
    "deletable": false,
    "nbgrader": {
     "cell_type": "markdown",
     "checksum": "7d12d6f369e868dd946a69ce1cc7ac7c",
     "grade": true,
     "grade_id": "cell-62681c4240d2770f",
     "locked": false,
     "points": 2,
     "schema_version": 3,
     "solution": true,
     "task": false
    }
   },
   "source": [
    "Our goal for Step 1 was to visualize the different number of new COVID-19 cases per age group and year. It shows the difference between the number of new cases per 6 different age groups for the year 2020 (purple bar) and 2021(green bar). The task on the data source supported by the chosen visualization is both clustering (per different age groups and years), as well as computing derived value (by aggregation). The chosen visualisation is able to quickly show us the comparison in regards to the new cases for the different age groups and years. The easy interpretability and the fact that it shows everything in a clear manner makes this bar plot a good choice for this task.\n",
    "\n",
    "The bar plot shows the number of new cases on the y-axis, in million, for every age group which are displayed on the x-axis in the years 2020 and 2021. The year 2020 is displayed in purple bars and the year 2021 is displayed in green bars. This visualisation contributes to our project idea by showing us the difference in new cases in 2 different years, which can be extended to other time frames."
   ]
  },
  {
   "cell_type": "markdown",
   "metadata": {
    "deletable": false,
    "editable": false,
    "nbgrader": {
     "cell_type": "markdown",
     "checksum": "af76f135495844516d647c09c36e5d69",
     "grade": false,
     "grade_id": "cell-716d568e128ba2a7",
     "locked": true,
     "schema_version": 3,
     "solution": false,
     "task": false
    }
   },
   "source": [
    "------\n",
    "## Step 2 (6 points)\n",
    "\n",
    "Select, implement and describe one visualisation for data source 2 (in isolation from data source 1)."
   ]
  },
  {
   "cell_type": "code",
   "execution_count": null,
   "metadata": {
    "deletable": false,
    "nbgrader": {
     "cell_type": "code",
     "checksum": "37fcd41ffd943e01cfe101fb587471af",
     "grade": true,
     "grade_id": "cell-06384a01f3b8fd45",
     "locked": false,
     "points": 4,
     "schema_version": 3,
     "solution": true,
     "task": false
    }
   },
   "outputs": [],
   "source": [
    "plt.rcParams['figure.figsize'] = (15, 9)\n",
    "\n",
    "json_df = pd.read_json ('./data/data_notebook-1_dataset2.json') #loading file into dataframe\n",
    "json_df_new = pd.DataFrame(json_df[json_df['level'] == 'national']).reset_index() #filtering for only national level data\n",
    "json_df_new = json_df_new.groupby('year_week')['new_cases'].sum().to_frame().reset_index() #calculating the new cases for the different year_weeks\n",
    "pl = json_df_new.plot.line(x = 'year_week', y = 'new_cases', color = 'red', label = 'New cases', linewidth = 4) #plotting the line graph with chosen x and y\n",
    "\n",
    "#setting the title and labels for the axis with the respective font sizes\n",
    "plt.title('New cases (in Millions) per week in EU', fontsize = 'xx-large') #defining title\n",
    "plt.ylabel('# of new cases (in Millions)', fontsize = 'xx-large') #defining y-axis\n",
    "plt.xlabel('Year-Week', fontsize = 'xx-large') #defining x-axis\n",
    "\n",
    "\n",
    "plt.legend(loc = 'upper right', fontsize = 'x-large')\n",
    "plt.show()"
   ]
  },
  {
   "cell_type": "markdown",
   "metadata": {
    "deletable": false,
    "editable": false,
    "nbgrader": {
     "cell_type": "markdown",
     "checksum": "d4960b6e83bfe3d1d4c644709994ce38",
     "grade": false,
     "grade_id": "cell-773b0383bfb8ea05",
     "locked": true,
     "schema_version": 3,
     "solution": false,
     "task": false
    }
   },
   "source": [
    "Document your decision and describe the resulting visualisation. In your answer, cover the following aspects:\n",
    "\n",
    "* What is the task on the data source supported by the chosen visualisation?\n",
    "* Why is the chosen visualisation effective for the given task?\n",
    "* What does the visualisation show exactly?\n",
    "* What does the visualisation contribute to answering your project's questions?"
   ]
  },
  {
   "cell_type": "markdown",
   "metadata": {
    "deletable": false,
    "nbgrader": {
     "cell_type": "markdown",
     "checksum": "70f9c93b079b85b8ff73115f2d84bc55",
     "grade": true,
     "grade_id": "cell-55569ce66deb1db2",
     "locked": false,
     "points": 2,
     "schema_version": 3,
     "solution": true,
     "task": false
    }
   },
   "source": [
    "The line chart is a commonly used plot to show how data evolved over time, which is why it is very useful for what we are trying to achieve. The task on the data source supported by the chosen visualization is computing derived value (by aggregating the number of new cases per all countries in the European Union). Our goal was to see how the total number of new cases (on y-axis) in the European Union evolved over the different weeks (on x-axis) the data was recorded (starting from 2020 week 1). We can clearly see, that the number of new cases per week have risen steadily until they reached a peak around week 45 of 2020. The number of new cases have since, in general, gone down slightly but are greatly fluctuating.\n",
    "\n",
    "This visualisation contributes to our project idea as it shows us the total number of new cases over time, which can then be used to look at the different age groups."
   ]
  },
  {
   "cell_type": "markdown",
   "metadata": {
    "deletable": false,
    "editable": false,
    "nbgrader": {
     "cell_type": "markdown",
     "checksum": "294ee00cbcbce74c16e3b37b5fc1c08f",
     "grade": false,
     "grade_id": "cell-41258b830f38673baa",
     "locked": true,
     "schema_version": 3,
     "solution": false,
     "task": false
    }
   },
   "source": [
    "-----\n",
    "## Step 3  (6 points)\n",
    "\n",
    "Merge the two data sets (or, relevant subsets thereof) based on your project idea from Assignment 2. Select, implement and describe one visualisation on the combined data set. Make sure you visualize variables taken from both original data sets."
   ]
  },
  {
   "cell_type": "code",
   "execution_count": null,
   "metadata": {
    "deletable": false,
    "nbgrader": {
     "cell_type": "code",
     "checksum": "ac5576483e06402954d3db58eccee491",
     "grade": true,
     "grade_id": "cell-b485c10ffce5955c",
     "locked": false,
     "points": 4,
     "schema_version": 3,
     "solution": true,
     "task": false
    }
   },
   "outputs": [],
   "source": [
    "df_json = pd.read_json ('./data/data_notebook-1_dataset2.json')\n",
    "df_csv = pd.read_csv(\"./data/data_notebook-1_dataset1.csv\")\n",
    "df_csv[['year','week']] = df_csv['year_week'].str.split('-', expand = True)\n",
    "\n",
    "new_json = pd.DataFrame(df_json[df_json['level'] == 'national']).reset_index()\n",
    "new_json = new_json.groupby('year_week')['tests_done'].sum().to_frame().reset_index()\n",
    "new_json[['year','week']] = new_json['year_week'].str.split('-W', expand = True)\n",
    "\n",
    "dfAgg2 = df_csv.groupby(['age_group','year_week'])['new_cases'].sum().to_frame().reset_index()\n",
    "dfAgg2[['year','week']] = dfAgg2['year_week'].str.split('-', expand = True)\n",
    "\n",
    "dfJoin = dfAgg2.merge(new_json, left_on = ['year', 'week'], right_on= ['year', 'week']).reset_index()\n",
    "dfJoin['week'] = dfJoin['week'].astype(int)\n",
    "del dfJoin['index']\n",
    "\n",
    "temp_df = pd.DataFrame(dfJoin[dfJoin['year'] == '2021']).reset_index()\n",
    "\n",
    "temp_df['rate_per_age_group'] = None\n",
    "rate_ind = temp_df.columns.get_loc('rate_per_age_group')\n",
    "new_cases_ind = temp_df.columns.get_loc('new_cases')\n",
    "tests_done_ind = temp_df.columns.get_loc('tests_done')\n",
    "row_count = temp_df.shape[0]\n",
    "\n",
    "#calculating the positivity rate from the merged dataframe and storing it in a new column in the same dataframe\n",
    "for row in range(0, row_count):\n",
    "    rate = (temp_df.iat[row, new_cases_ind]*100)/temp_df.iat[row, tests_done_ind]\n",
    "    temp_df.iat[row, rate_ind] = rate\n",
    "\n",
    "#deleting the unnecessary columns\n",
    "del temp_df['year_week_y']\n",
    "del temp_df['index']\n",
    "\n",
    "temp_df = temp_df.rename(columns={'year_week_x': 'year_week'})\n",
    "plot_df = temp_df[[\"year_week\", \"age_group\",\"rate_per_age_group\"]].reset_index()\n",
    "\n",
    "del plot_df['index']\n",
    "\n",
    "plt.rcParams['figure.figsize'] = (15, 9)\n",
    "\n",
    "list_unique = plot_df['age_group'].unique()\n",
    "\n",
    "#put the '<15yr' to the front to have it all in order\n",
    "list_unique = np.roll(list_unique, shift = 1)\n",
    "\n",
    "x = plot_df['year_week']\n",
    "y = plot_df['rate_per_age_group']\n",
    "\n",
    "for i in range(len(list_unique)):\n",
    "    idx = plot_df['age_group'] == list_unique[i]\n",
    "    plt.plot(x[idx], y[idx], label=list_unique[i], linewidth = 3)\n",
    "\n",
    "#list1 is a list of all unique weeks in 2021 - W1-W42\n",
    "list1 = list()\n",
    "for year_week in plot_df[plot_df['year_week'].index % 4 == 0]['year_week'].tolist():\n",
    "    if year_week not in list1:\n",
    "        list1.append(year_week)\n",
    "\n",
    "#list2 is used for a rough estimate of starting weeks for each month in 2021 - 4 weeks = 1 month\n",
    "list2 = list()\n",
    "for elem in list1:\n",
    "    if list1.index(elem) % 4 == 0:\n",
    "        list2.append(elem)\n",
    "        \n",
    "plt.xlabel('Month-Year', fontsize = 'xx-large')\n",
    "plt.ylabel('% of positive tests per age group', fontsize = 'xx-large')\n",
    "plt.title('Positive COVID-19 test rate per age group for year 2021 (Jan-Nov)', fontsize = 'xx-large')\n",
    "\n",
    "# xticks method is used to name the rough month starting weeks from list2 to Month-Year format\n",
    "plt.xticks(ticks = list2, labels = ['Jan-2021', 'Feb-2021', 'Mar-2021', 'Apr-2021', 'May-2021', 'Jun-2021', 'Jul-2021', 'Aug-2021', 'Sep-2021', 'Oct-2021', 'Nov-2021'])\n",
    "legend = plt.legend(loc = 'upper right', fontsize = 'x-large')\n",
    "legend.set_title('Age groups', prop = {'size':15})\n",
    "plt.show()"
   ]
  },
  {
   "cell_type": "markdown",
   "metadata": {
    "deletable": false,
    "editable": false,
    "nbgrader": {
     "cell_type": "markdown",
     "checksum": "d34ffaabdde3e0b62e2124f6a0296d43",
     "grade": false,
     "grade_id": "cell-3c0ae5fb02e6f352",
     "locked": true,
     "schema_version": 3,
     "solution": false,
     "task": false
    }
   },
   "source": [
    "Document your decision and describe the resulting visualisation. In your answer, cover the following aspects:\n",
    "\n",
    "* What is the task on the combined data set supported by the chosen visualisation?\n",
    "* Why is the chosen visualisation effective for the given task?\n",
    "* What does the visualisation show exactly?\n",
    "* What does the visualisation contribute to answering your project's questions?"
   ]
  },
  {
   "cell_type": "markdown",
   "metadata": {
    "deletable": false,
    "nbgrader": {
     "cell_type": "markdown",
     "checksum": "93cf6e7530dfb8ecc91c0f6b7496d1d6",
     "grade": true,
     "grade_id": "cell-bde7e30e877919a8",
     "locked": false,
     "points": 2,
     "schema_version": 3,
     "solution": true,
     "task": false
    }
   },
   "source": [
    "The goal of this visualisation was to show how many new cases in percent (in regards to the total tests done) there are in different age groups and to compare the different age groups to each other over the year 2021 (from January until November). The task on the data source supported by the chosen visualization is computing derived value (by deriving the positivity rate per age group and for year 2021), as well as clustering by deriving the positivity rate for specific age groups. The line chart is an effective choice for this goal as it allows us to clearly see the mentioned differences over time.\n",
    "\n",
    "The visualisation shows a line chart that displays how many percent the positive tests of a certain age group are in regards to total tests done. The y-axis shows the percent of positive tests in regards to the total tests done, the x-axis shows the months January of 2021 until November 2021. The different coloured lines show the different age groups. We can see that the age group 25-49 has consistently had the highest number of new cases and that overall the least tests were positive at the beginning of July 2021, after which they have risen again. This visualisation helps us in answering the question how the cases, in regard to total tests, of the different age groups have changed over the time of a few months."
   ]
  },
  {
   "cell_type": "markdown",
   "metadata": {
    "deletable": false,
    "editable": false,
    "nbgrader": {
     "cell_type": "markdown",
     "checksum": "2833f95452296e6b6ed50cadfce5a3b5",
     "grade": false,
     "grade_id": "cell-1c3320479f4749e1",
     "locked": true,
     "schema_version": 3,
     "solution": false,
     "task": false
    }
   },
   "source": [
    "-----\n",
    "## Step 4  (2 points)\n",
    "\n",
    "Persist the merged dataset from Step 3 as a file."
   ]
  },
  {
   "cell_type": "code",
   "execution_count": null,
   "metadata": {
    "deletable": false,
    "nbgrader": {
     "cell_type": "code",
     "checksum": "99a207cf130d1837d8994901f5c01b01",
     "grade": true,
     "grade_id": "cell-7df195f7e47ef8d0",
     "locked": false,
     "points": 2,
     "schema_version": 3,
     "solution": true,
     "task": false
    }
   },
   "outputs": [],
   "source": [
    "#file of the dataset we used to plot the final visualization in Step 3\n",
    "plot_df.to_csv('./data/data_notebook-1_plot_dataset.csv', index = False, sep = ',')"
   ]
  }
 ],
 "metadata": {
  "kernelspec": {
   "display_name": "Python 3 (ipykernel)",
   "language": "python",
   "name": "python3"
  },
  "language_info": {
   "codemirror_mode": {
    "name": "ipython",
    "version": 3
   },
   "file_extension": ".py",
   "mimetype": "text/x-python",
   "name": "python",
   "nbconvert_exporter": "python",
   "pygments_lexer": "ipython3",
   "version": "3.9.7"
  }
 },
 "nbformat": 4,
 "nbformat_minor": 4
}
